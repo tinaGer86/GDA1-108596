{
 "cells": [
  {
   "cell_type": "markdown",
   "id": "4a7609c4-97bd-49b2-92d9-74664a38771f",
   "metadata": {},
   "source": [
    "# Introduction to Pandas DataFrames"
   ]
  },
  {
   "cell_type": "markdown",
   "id": "fd1a15f0-0c58-4b2a-8be6-ff0b463c962f",
   "metadata": {},
   "source": [
    "![](Pandas.webp)"
   ]
  },
  {
   "cell_type": "markdown",
   "id": "14ac03f5-075a-4218-a514-58602f9f459c",
   "metadata": {},
   "source": [
    "[Pandas](https://pandas.pydata.org/) is a powerful and versatile library for Python, designed primarily for data manipulation and analysis. To quote from Nvidia’s website:"
   ]
  },
  {
   "cell_type": "markdown",
   "id": "2964dcec-58c4-422a-accf-b81b74984b16",
   "metadata": {},
   "source": [
    "> Pandas is the most popular software library for data manipulation and data analysis for the Python programming language. ([www.nvidia.com](https://www.nvidia.com/en-us/glossary/pandas-python/))"
   ]
  },
  {
   "cell_type": "code",
   "execution_count": null,
   "id": "f366721f-a7ec-4d85-a0ab-795c2c190f4e",
   "metadata": {},
   "outputs": [],
   "source": []
  }
 ],
 "metadata": {
  "kernelspec": {
   "display_name": "Python 3 (ipykernel)",
   "language": "python",
   "name": "python3"
  },
  "language_info": {
   "codemirror_mode": {
    "name": "ipython",
    "version": 3
   },
   "file_extension": ".py",
   "mimetype": "text/x-python",
   "name": "python",
   "nbconvert_exporter": "python",
   "pygments_lexer": "ipython3",
   "version": "3.12.7"
  }
 },
 "nbformat": 4,
 "nbformat_minor": 5
}
