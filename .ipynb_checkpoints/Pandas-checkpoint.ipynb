{
 "cells": [
  {
   "cell_type": "markdown",
   "id": "4a7609c4-97bd-49b2-92d9-74664a38771f",
   "metadata": {},
   "source": [
    "# Introduction to Pandas DataFrames"
   ]
  },
  {
   "cell_type": "markdown",
   "id": "fd1a15f0-0c58-4b2a-8be6-ff0b463c962f",
   "metadata": {},
   "source": [
    "![](Pandas.webp)"
   ]
  },
  {
   "cell_type": "markdown",
   "id": "14ac03f5-075a-4218-a514-58602f9f459c",
   "metadata": {},
   "source": [
    "[Pandas](https://pandas.pydata.org/) is a powerful and versatile library for Python, designed primarily for data manipulation and analysis. To quote from Nvidia’s website:"
   ]
  },
  {
   "cell_type": "markdown",
   "id": "2964dcec-58c4-422a-accf-b81b74984b16",
   "metadata": {},
   "source": [
    "> Pandas is the most popular software library for data manipulation and data analysis for the Python programming language. ([www.nvidia.com](https://www.nvidia.com/en-us/glossary/pandas-python/))"
   ]
  },
  {
   "cell_type": "markdown",
   "id": "09a6e644-de79-40e9-807c-334229fca05a",
   "metadata": {},
   "source": [
    "Here is an (incomplete) list of some key functionalities provided by Pandas:"
   ]
  },
  {
   "cell_type": "markdown",
   "id": "77079575-8d01-414c-846d-1c4ad1720719",
   "metadata": {},
   "source": [
    "1. **Data Structures**\n",
    "   - *Series*: One-dimensional labeled array capable of holding data of any type.\n",
    "   - *DataFrame*: Two-dimensional, size-mutable, potentially heterogeneous tabular data structure with labeled axes (rows and columns).\n",
    "2. **Data Manipulation**\n",
    "   - *Data Selection and Indexing*: Access data via labels, indices, or boolean masks (`.loc`, `.iloc`, `.at`, `.iat`).\n",
    "   - *Filtering*: Filter data based on conditions or queries.\n",
    "   - *Sorting*: Sort data by labels or values.\n",
    "   - *Handling Missing Data*: Identify, fill, or drop missing values (`isnull`, `dropna`, `fillna`).\n",
    "3. **Data Cleaning**\n",
    "   - *Dropping Duplicates*: Remove duplicate rows or columns.\n",
    "   - *Replacing Values*: Replace specific values in the DataFrame.\n",
    "   - *String Operations*: Perform operations on string data, like splitting, replacing, and pattern matching (`str.split`, `str.replace`).\n",
    "4. **Aggregation and Grouping**\n",
    "   - *Group By*: Split data into groups based on criteria, and perform aggregate functions like sum, mean, or custom operations.\n",
    "   - *Pivot Tables*: Create a pivot table to summarize data.\n",
    "5. **Merging and Joining**\n",
    "   - *Concatenation*: Combine multiple DataFrames along a particular axis.\n",
    "   - *Merging*: Merge DataFrames similar to SQL joins (`merge`, `join`).\n",
    "6. **Time Series**\n",
    "   - *Datetime Conversion*: Convert date and time data to a datetime object.\n",
    "   - *Resampling*: Aggregate data over a time period.\n",
    "   - *Time-based Indexing*: Access and manipulate time-series data easily with date indexing.\n",
    "7. **Statistical and Mathematical Operations**\n",
    "   - *Descriptive Statistics*: Compute summary statistics for DataFrame columns.\n",
    "   - *Correlation/ Covariance*: Calculate the pairwise correlation or covariance between columns.\n",
    "   - *Cumulative Operations*: Perform cumulative operations on data."
   ]
  },
  {
   "cell_type": "markdown",
   "id": "df030e24-b241-4c66-827d-38e76f4b12f6",
   "metadata": {},
   "source": [
    "At the heart of Pandas lies the DataFrame, a two-dimensional labeled data structure with columns of potentially different types, similar to a table in a relational database or an Excel spreadsheet. Understanding DataFrames is crucial for anyone looking to perform data analysis in Python."
   ]
  },
  {
   "cell_type": "markdown",
   "id": "3337b2dc-58e1-444e-9b0e-9a0b6b93a02a",
   "metadata": {},
   "source": [
    "## What is a DataFrame?\n",
    "A DataFrame is a table-like structure in Pandas that consists of rows and columns, where each column can hold different data types (e.g., integers, floats, strings). You can think of it as a collection of Series objects, where each Series is a single column of data. DataFrames provide a highly efficient way to store and manipulate large datasets in memory."
   ]
  },
  {
   "cell_type": "markdown",
   "id": "08a1b2c7-273b-46ce-a17b-2e705ee07cf2",
   "metadata": {},
   "source": [
    "## Creating a DataFrame\n",
    "There are several ways to create a DataFrame in Pandas, but some of the most common methods are:\n",
    "1. From a Dictionary\n",
    "2. From a List of Lists\n",
    "3. From a CSV File"
   ]
  },
  {
   "cell_type": "markdown",
   "id": "883ae47e-58fa-40f8-bd3a-15613702aeac",
   "metadata": {},
   "source": [
    "Below we take a look at the first two approaches."
   ]
  },
  {
   "cell_type": "markdown",
   "id": "feb7a412-312f-4e15-975d-a7dd48ac066b",
   "metadata": {},
   "source": [
    "## Creating DataFrame from a Dictionary\n",
    "The following code will create a DataFrame with three columns: ‘Name’, ‘Age’, and ‘City’, and three rows corresponding to the data provided in the dictionary. To be able to use Pandas, we first have to import it. This is done using the command `import pandas as pd`, introducing the alias `pd` for Pandas."
   ]
  },
  {
   "cell_type": "code",
   "execution_count": 4,
   "id": "30d0c3ad-70be-4088-9a54-4983e2e99131",
   "metadata": {},
   "outputs": [
    {
     "data": {
      "text/html": [
       "<div>\n",
       "<style scoped>\n",
       "    .dataframe tbody tr th:only-of-type {\n",
       "        vertical-align: middle;\n",
       "    }\n",
       "\n",
       "    .dataframe tbody tr th {\n",
       "        vertical-align: top;\n",
       "    }\n",
       "\n",
       "    .dataframe thead th {\n",
       "        text-align: right;\n",
       "    }\n",
       "</style>\n",
       "<table border=\"1\" class=\"dataframe\">\n",
       "  <thead>\n",
       "    <tr style=\"text-align: right;\">\n",
       "      <th></th>\n",
       "      <th>Name</th>\n",
       "      <th>Age</th>\n",
       "      <th>City</th>\n",
       "    </tr>\n",
       "  </thead>\n",
       "  <tbody>\n",
       "    <tr>\n",
       "      <th>0</th>\n",
       "      <td>Alice</td>\n",
       "      <td>25</td>\n",
       "      <td>New York</td>\n",
       "    </tr>\n",
       "    <tr>\n",
       "      <th>1</th>\n",
       "      <td>Bob</td>\n",
       "      <td>30</td>\n",
       "      <td>Los Angeles</td>\n",
       "    </tr>\n",
       "    <tr>\n",
       "      <th>2</th>\n",
       "      <td>Charlie</td>\n",
       "      <td>35</td>\n",
       "      <td>Chicago</td>\n",
       "    </tr>\n",
       "  </tbody>\n",
       "</table>\n",
       "</div>"
      ],
      "text/plain": [
       "      Name  Age         City\n",
       "0    Alice   25     New York\n",
       "1      Bob   30  Los Angeles\n",
       "2  Charlie   35      Chicago"
      ]
     },
     "execution_count": 4,
     "metadata": {},
     "output_type": "execute_result"
    }
   ],
   "source": [
    "import pandas as pd\n",
    "\n",
    "data = {\n",
    "    'Name': ['Alice', 'Bob', 'Charlie'],\n",
    "    'Age': [25, 30, 35],\n",
    "    'City': ['New York', 'Los Angeles', 'Chicago']\n",
    "}\n",
    "\n",
    "df = pd.DataFrame(data)\n",
    "print(df)"
   ]
  },
  {
   "cell_type": "markdown",
   "id": "92df8dec-e201-44e1-ba5c-d4ac9c596a76",
   "metadata": {},
   "source": [
    "## Creating DataFrame from a List of Lists\n",
    "Here, we create the DataFrame from a list of lists where each inner list represents the values for one row. Note that We explicitly specify the column names when creating the DataFrame."
   ]
  },
  {
   "cell_type": "code",
   "execution_count": 5,
   "id": "2cfd8320-1d9a-499a-962e-02ec9aae6e14",
   "metadata": {},
   "outputs": [
    {
     "data": {
      "text/html": [
       "<div>\n",
       "<style scoped>\n",
       "    .dataframe tbody tr th:only-of-type {\n",
       "        vertical-align: middle;\n",
       "    }\n",
       "\n",
       "    .dataframe tbody tr th {\n",
       "        vertical-align: top;\n",
       "    }\n",
       "\n",
       "    .dataframe thead th {\n",
       "        text-align: right;\n",
       "    }\n",
       "</style>\n",
       "<table border=\"1\" class=\"dataframe\">\n",
       "  <thead>\n",
       "    <tr style=\"text-align: right;\">\n",
       "      <th></th>\n",
       "      <th>Name</th>\n",
       "      <th>Age</th>\n",
       "      <th>City</th>\n",
       "    </tr>\n",
       "  </thead>\n",
       "  <tbody>\n",
       "    <tr>\n",
       "      <th>0</th>\n",
       "      <td>Alice</td>\n",
       "      <td>25</td>\n",
       "      <td>New York</td>\n",
       "    </tr>\n",
       "    <tr>\n",
       "      <th>1</th>\n",
       "      <td>Bob</td>\n",
       "      <td>30</td>\n",
       "      <td>Los Angeles</td>\n",
       "    </tr>\n",
       "    <tr>\n",
       "      <th>2</th>\n",
       "      <td>Charlie</td>\n",
       "      <td>35</td>\n",
       "      <td>Chicago</td>\n",
       "    </tr>\n",
       "  </tbody>\n",
       "</table>\n",
       "</div>"
      ],
      "text/plain": [
       "      Name  Age         City\n",
       "0    Alice   25     New York\n",
       "1      Bob   30  Los Angeles\n",
       "2  Charlie   35      Chicago"
      ]
     },
     "execution_count": 5,
     "metadata": {},
     "output_type": "execute_result"
    }
   ],
   "source": [
    "data = [\n",
    "    ['Alice', 25, 'New York'],\n",
    "    ['Bob', 30, 'Los Angeles'],\n",
    "    ['Charlie', 35, 'Chicago']\n",
    "]\n",
    "\n",
    "df = pd.DataFrame(data, columns=['Name', 'Age', 'City'])\n",
    "print(df)"
   ]
  },
  {
   "cell_type": "markdown",
   "id": "d1bbdfcb-6dda-438f-86a2-e50cab8130dc",
   "metadata": {},
   "source": [
    "## Accessing Data in a DataFrame\n",
    "Once you have a DataFrame, you can access its data in various ways:"
   ]
  },
  {
   "cell_type": "markdown",
   "id": "8c4d6357-59c4-4f67-abaf-f5528791a82c",
   "metadata": {},
   "source": [
    "By column name:"
   ]
  },
  {
   "cell_type": "code",
   "execution_count": 6,
   "id": "b213f49d-eb32-403c-ab1f-848d8682f42c",
   "metadata": {},
   "outputs": [
    {
     "data": {
      "text/plain": [
       "0      Alice\n",
       "1        Bob\n",
       "2    Charlie\n",
       "Name: Name, dtype: object"
      ]
     },
     "execution_count": 6,
     "metadata": {},
     "output_type": "execute_result"
    }
   ],
   "source": [
    "print(df['Name'])"
   ]
  },
  {
   "cell_type": "markdown",
   "id": "5036d805-f550-4e20-83c0-5c39724308fa",
   "metadata": {},
   "source": [
    "By row index:"
   ]
  },
  {
   "cell_type": "code",
   "execution_count": 7,
   "id": "f49cf686-b068-4391-a9f9-7ad66fddc2ce",
   "metadata": {},
   "outputs": [
    {
     "data": {
      "text/plain": [
       "Name       Alice\n",
       "Age           25\n",
       "City    New York\n",
       "Name: 0, dtype: object"
      ]
     },
     "execution_count": 7,
     "metadata": {},
     "output_type": "execute_result"
    }
   ],
   "source": [
    "print(df.iloc[0])"
   ]
  },
  {
   "cell_type": "markdown",
   "id": "bd8dad59-d43e-418d-aade-126b3236aa32",
   "metadata": {},
   "source": [
    "Using both:"
   ]
  },
  {
   "cell_type": "code",
   "execution_count": 9,
   "id": "759c22f3-e772-48b7-a84e-13e74a38b097",
   "metadata": {},
   "outputs": [
    {
     "data": {
      "text/plain": [
       "'Alice'"
      ]
     },
     "execution_count": 9,
     "metadata": {},
     "output_type": "execute_result"
    }
   ],
   "source": [
    "print(df.loc[0, 'Name'])"
   ]
  },
  {
   "cell_type": "markdown",
   "id": "9680dcae-31b5-45e5-861a-78979e436d78",
   "metadata": {},
   "source": [
    "## Conclusion\n",
    "Pandas DataFrames are a fundamental tool in the data analysis toolkit for Python users. They provide a powerful way to organize, manipulate, and analyze data efficiently. Whether you’re working with small datasets or handling large-scale data, mastering DataFrames will allow you to tackle a wide range of data-related tasks with ease."
   ]
  },
  {
   "cell_type": "markdown",
   "id": "6f055e8c-ed86-4bb0-9be2-8a93efe6744d",
   "metadata": {},
   "source": [
    "In this introduction, we’ve covered the basics of what a DataFrame is, how to create one, and how to access columns, rows, and individual cells in a DataFrame. As you continue to explore Pandas, you’ll discover many more features and capabilities that make DataFrames an indispensable part of Python programming. The table below contains a number of resources related to Pandas."
   ]
  },
  {
   "cell_type": "markdown",
   "id": "4d517129-9e28-4595-9bce-c1c3ad649946",
   "metadata": {},
   "source": [
    "| Resource | Description |\n",
    "| ------- | ------- |\n",
    "| Pandas Documentation | Official documentation for Pandas. |\n",
    "| Python for Data Analysis | Comprehensive guide by Pandas creator, Wes McKinney. |\n",
    "| Real Python: The Pandas DataFrame | Tutorials on using Pandas for data analysis. |\n",
    "| Kaggle Pandas | Free introductory course on Pandas by Kaggle. |\n",
    "| DataCamp Pandas Tutorial | Detailed tutorials and exercises on Pandas. |"
   ]
  }
 ],
 "metadata": {
  "kernelspec": {
   "display_name": "Python 3 (ipykernel)",
   "language": "python",
   "name": "python3"
  },
  "language_info": {
   "codemirror_mode": {
    "name": "ipython",
    "version": 3
   },
   "file_extension": ".py",
   "mimetype": "text/x-python",
   "name": "python",
   "nbconvert_exporter": "python",
   "pygments_lexer": "ipython3",
   "version": "3.12.7"
  }
 },
 "nbformat": 4,
 "nbformat_minor": 5
}
